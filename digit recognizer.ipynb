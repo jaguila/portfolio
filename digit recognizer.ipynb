{
 "cells": [
  {
   "cell_type": "markdown",
   "metadata": {},
   "source": [
    "Kaggle competition\n",
    "\n",
    "Goal: use pixel data from hand drawn digits to be able to recognize digits.\n",
    "\n",
    "Data: The values in the pixel data are integers 0-255 which indicate the lightness or darkness of the pixel\n",
    "\n",
    "\n"
   ]
  },
  {
   "cell_type": "code",
   "execution_count": 1,
   "metadata": {
    "collapsed": true
   },
   "outputs": [],
   "source": [
    "import pandas as pd\n",
    "import numpy as np\n",
    "import matplotlib.pyplot as plt\n",
    "%matplotlib inline"
   ]
  },
  {
   "cell_type": "code",
   "execution_count": 25,
   "metadata": {
    "collapsed": false
   },
   "outputs": [],
   "source": [
    "# import training file\n",
    "loc=\"C:\\\\Users\\\\user\\\\Desktop\\\\kaggle\\\\digit_recog\\\\\"\n",
    "raw_train=pd.read_csv(loc+\"train.csv\")"
   ]
  },
  {
   "cell_type": "code",
   "execution_count": 4,
   "metadata": {
    "collapsed": false
   },
   "outputs": [
    {
     "name": "stdout",
     "output_type": "stream",
     "text": [
      "[[0 0 0 ..., 0 0 0]\n",
      " [0 0 0 ..., 0 0 0]\n",
      " [0 0 0 ..., 0 0 0]\n",
      " ..., \n",
      " [0 0 0 ..., 0 0 0]\n",
      " [0 0 0 ..., 0 0 0]\n",
      " [0 0 0 ..., 0 0 0]]\n"
     ]
    }
   ],
   "source": [
    "# assign labels\n",
    "y_tr=raw_train.values[:,0]\n",
    "#assign features\n",
    "x_tr=raw_train.values[:,1:]\n",
    "\n",
    "print x_tr[0:20]"
   ]
  },
  {
   "cell_type": "code",
   "execution_count": 5,
   "metadata": {
    "collapsed": false
   },
   "outputs": [],
   "source": [
    "# create a histogram of the labels\n",
    "from collections import Counter\n",
    "y_tr_plt=dict(Counter(y for y in y_tr))\n"
   ]
  },
  {
   "cell_type": "code",
   "execution_count": 6,
   "metadata": {
    "collapsed": false,
    "scrolled": true
   },
   "outputs": [
    {
     "data": {
      "image/png": "[encoded data removed]",
      "text/plain": [
       "<matplotlib.figure.Figure at 0x3d41400>"
      ]
     },
     "metadata": {},
     "output_type": "display_data"
    }
   ],
   "source": [
    "# x_tr_plt1=dict((x,x_tr_plt[x]) for x in x_tr_plt if x_tr_plt[x]>10)\n",
    "\n",
    "plt.bar(range(len(y_tr_plt)), y_tr_plt.values())\n",
    "plt.xticks(range(len(y_tr_plt)), y_tr_plt.keys(), rotation=\"vertical\")\n",
    "plt.title(\"frequency of labels\")\n",
    "plt.show()"
   ]
  },
  {
   "cell_type": "markdown",
   "metadata": {},
   "source": [
    "This histogram tells us that other than a slightly higher frequency of \"2's\" being drawn there is not overwhelming difference of specific labels that may skew our model creation. So prior probability for all digits are close to even, this may affect a model for Naive bayes."
   ]
  },
  {
   "cell_type": "code",
   "execution_count": 10,
   "metadata": {
    "collapsed": true
   },
   "outputs": [],
   "source": [
    "# Let us test out Naive Bayes right now\n",
    "# use naive bayes classifier ( prior probability * probability given features)\n",
    "from sklearn.naive_bayes import GaussianNB as NB"
   ]
  },
  {
   "cell_type": "code",
   "execution_count": 11,
   "metadata": {
    "collapsed": false
   },
   "outputs": [
    {
     "data": {
      "text/plain": [
       "GaussianNB()"
      ]
     },
     "execution_count": 11,
     "metadata": {},
     "output_type": "execute_result"
    }
   ],
   "source": [
    "clf=NB()\n",
    "clf.fit(x_tr,y_tr)"
   ]
  },
  {
   "cell_type": "code",
   "execution_count": 8,
   "metadata": {
    "collapsed": true
   },
   "outputs": [],
   "source": [
    "y_test=pd.read_csv(loc+\"test.csv\")"
   ]
  },
  {
   "cell_type": "code",
   "execution_count": 13,
   "metadata": {
    "collapsed": false
   },
   "outputs": [
    {
     "name": "stdout",
     "output_type": "stream",
     "text": [
      "[0 0 9 ..., 8 9 0]\n"
     ]
    }
   ],
   "source": [
    "pred=clf.predict(y_test)\n",
    "# pred=pred.tolist()\n",
    "# pred=[int(i) for i in pred]\n",
    "print pred"
   ]
  },
  {
   "cell_type": "code",
   "execution_count": null,
   "metadata": {
    "collapsed": false
   },
   "outputs": [],
   "source": [
    "# export predictions into a csv file\n",
    "import csv\n",
    "with open(loc+'submission.csv', 'wb') as f:  # Just use 'w' mode in 3.x\n",
    "    w = csv.writer(f)\n",
    "    w.writerow([\"imageid\", \"label\"])\n",
    "\n",
    "    for i,v in enumerate(pred, start=1):\n",
    "        w.writerow([i,v])\n"
   ]
  },
  {
   "cell_type": "markdown",
   "metadata": {},
   "source": [
    "The Naive Bayes classifier produced an 0.51457 result. This is not a very good result. This may have to do with the fact that Naive bayes uses prior probability as a large part of the algorithm for prediction \n",
    "\n",
    "Lets try the other classifier models and see how they do."
   ]
  },
  {
   "cell_type": "code",
   "execution_count": 9,
   "metadata": {
    "collapsed": false
   },
   "outputs": [
    {
     "data": {
      "text/plain": [
       "SGDClassifier(alpha=0.0001, average=False, class_weight=None, epsilon=0.1,\n",
       "       eta0=0.0, fit_intercept=True, l1_ratio=0.15,\n",
       "       learning_rate='optimal', loss='hinge', n_iter=5, n_jobs=1,\n",
       "       penalty='l2', power_t=0.5, random_state=None, shuffle=True,\n",
       "       verbose=0, warm_start=False)"
      ]
     },
     "execution_count": 9,
     "metadata": {},
     "output_type": "execute_result"
    }
   ],
   "source": [
    "# I will try to use the SGD Classifier instead as there are more than 100k datarows\n",
    "\n",
    "from sklearn.linear_model import SGDClassifier as SGD\n",
    "\n",
    "clf2=SGD()\n",
    "clf2.fit(x_tr, y_tr)"
   ]
  },
  {
   "cell_type": "code",
   "execution_count": 12,
   "metadata": {
    "collapsed": false
   },
   "outputs": [
    {
     "name": "stdout",
     "output_type": "stream",
     "text": [
      "[2 0 9 ..., 3 9 2]\n"
     ]
    }
   ],
   "source": [
    "pred2=clf2.predict(y_test)"
   ]
  },
  {
   "cell_type": "code",
   "execution_count": 13,
   "metadata": {
    "collapsed": true
   },
   "outputs": [],
   "source": [
    "import csv\n",
    "\n",
    "\n",
    "with open(loc+'submission2.csv', 'wb') as f:  # Just use 'w' mode in 3.x\n",
    "    w = csv.writer(f)\n",
    "    w.writerow([\"imageid\", \"label\"])\n",
    "    for i,v in enumerate(pred2, start=1):\n",
    "        w.writerow([i,v])\n"
   ]
  },
  {
   "cell_type": "markdown",
   "metadata": {},
   "source": [
    "This produces a score of 0.84829!"
   ]
  },
  {
   "cell_type": "code",
   "execution_count": 14,
   "metadata": {
    "collapsed": false
   },
   "outputs": [
    {
     "data": {
      "text/plain": [
       "RandomForestClassifier(bootstrap=True, class_weight=None, criterion='gini',\n",
       "            max_depth=None, max_features='auto', max_leaf_nodes=None,\n",
       "            min_samples_leaf=1, min_samples_split=2,\n",
       "            min_weight_fraction_leaf=0.0, n_estimators=10, n_jobs=1,\n",
       "            oob_score=False, random_state=None, verbose=0,\n",
       "            warm_start=False)"
      ]
     },
     "execution_count": 14,
     "metadata": {},
     "output_type": "execute_result"
    }
   ],
   "source": [
    "from sklearn.ensemble import RandomForestClassifier as RF\n",
    "clf3=RF()\n",
    "clf3.fit(x_tr, y_tr)"
   ]
  },
  {
   "cell_type": "code",
   "execution_count": 17,
   "metadata": {
    "collapsed": false
   },
   "outputs": [
    {
     "name": "stdout",
     "output_type": "stream",
     "text": [
      "[2 0 9 ..., 3 9 2]\n"
     ]
    }
   ],
   "source": [
    "pred3=clf3.predict(y_test)\n",
    "print pred3"
   ]
  },
  {
   "cell_type": "code",
   "execution_count": 19,
   "metadata": {
    "collapsed": false
   },
   "outputs": [],
   "source": [
    "with open(loc+'submission3.csv', 'wb') as f:\n",
    "    w=csv.writer(f)\n",
    "    w.writerow(['imageid','label'])\n",
    "    for i,v in enumerate(pred4, start=1):\n",
    "        w.writerow([i,v])"
   ]
  },
  {
   "cell_type": "markdown",
   "metadata": {},
   "source": [
    "This produces a score of 0.941 which is only 6% off from 100%!\n",
    "\n",
    "Since this model produces the best results I will stick with this classifier and then start working on Data Munging to possibly improve on this score"
   ]
  },
  {
   "cell_type": "markdown",
   "metadata": {},
   "source": [
    "In order to clean some of the data i will change the pixel values that have counts below 25% to zero. The darkness of those pixels being so light may have to do with the fact that these pixels are associated with the beginning or end of the word since the writer will gradually press down at the start of the word and gradually lift the pen at the end of the word.\n"
   ]
  },
  {
   "cell_type": "code",
   "execution_count": 7,
   "metadata": {
    "collapsed": false
   },
   "outputs": [
    {
     "data": {
      "text/html": [
       "<div>\n",
       "<table border=\"1\" class=\"dataframe\">\n",
       "  <thead>\n",
       "    <tr style=\"text-align: right;\">\n",
       "      <th></th>\n",
       "      <th>pixel_drk</th>\n",
       "      <th>count</th>\n",
       "    </tr>\n",
       "  </thead>\n",
       "  <tbody>\n",
       "    <tr>\n",
       "      <th>count</th>\n",
       "      <td>256.000000</td>\n",
       "      <td>256.000000</td>\n",
       "    </tr>\n",
       "    <tr>\n",
       "      <th>mean</th>\n",
       "      <td>127.500000</td>\n",
       "      <td>128625.000000</td>\n",
       "    </tr>\n",
       "    <tr>\n",
       "      <th>std</th>\n",
       "      <td>74.045031</td>\n",
       "      <td>1664216.460833</td>\n",
       "    </tr>\n",
       "    <tr>\n",
       "      <th>min</th>\n",
       "      <td>0.000000</td>\n",
       "      <td>8944.000000</td>\n",
       "    </tr>\n",
       "    <tr>\n",
       "      <th>25%</th>\n",
       "      <td>63.750000</td>\n",
       "      <td>11962.250000</td>\n",
       "    </tr>\n",
       "    <tr>\n",
       "      <th>50%</th>\n",
       "      <td>127.500000</td>\n",
       "      <td>13566.000000</td>\n",
       "    </tr>\n",
       "    <tr>\n",
       "      <th>75%</th>\n",
       "      <td>191.250000</td>\n",
       "      <td>18366.750000</td>\n",
       "    </tr>\n",
       "    <tr>\n",
       "      <th>max</th>\n",
       "      <td>255.000000</td>\n",
       "      <td>26621312.000000</td>\n",
       "    </tr>\n",
       "  </tbody>\n",
       "</table>\n",
       "</div>"
      ],
      "text/plain": [
       "        pixel_drk            count\n",
       "count  256.000000       256.000000\n",
       "mean   127.500000    128625.000000\n",
       "std     74.045031   1664216.460833\n",
       "min      0.000000      8944.000000\n",
       "25%     63.750000     11962.250000\n",
       "50%    127.500000     13566.000000\n",
       "75%    191.250000     18366.750000\n",
       "max    255.000000  26621312.000000"
      ]
     },
     "execution_count": 7,
     "metadata": {},
     "output_type": "execute_result"
    }
   ],
   "source": [
    "# Lets get the counts of the each pixel darkness value\n",
    "from collections import Counter\n",
    "\n",
    "x_tr_dk=dict(Counter(i for sublist in x_tr for i in sublist))\n",
    "x_tr_dk_df=pd.DataFrame(x_tr_dk.items(), columns=['pixel_drk', 'count'])\n",
    "x_tr_dk_df.describe()"
   ]
  },
  {
   "cell_type": "code",
   "execution_count": 9,
   "metadata": {
    "collapsed": false
   },
   "outputs": [
    {
     "data": {
      "text/html": [
       "<div>\n",
       "<table border=\"1\" class=\"dataframe\">\n",
       "  <thead>\n",
       "    <tr style=\"text-align: right;\">\n",
       "      <th></th>\n",
       "      <th>pixel_drk</th>\n",
       "      <th>count</th>\n",
       "    </tr>\n",
       "  </thead>\n",
       "  <tbody>\n",
       "    <tr>\n",
       "      <th>33</th>\n",
       "      <td>33</td>\n",
       "      <td>11018</td>\n",
       "    </tr>\n",
       "    <tr>\n",
       "      <th>52</th>\n",
       "      <td>52</td>\n",
       "      <td>10245</td>\n",
       "    </tr>\n",
       "    <tr>\n",
       "      <th>58</th>\n",
       "      <td>58</td>\n",
       "      <td>10089</td>\n",
       "    </tr>\n",
       "    <tr>\n",
       "      <th>65</th>\n",
       "      <td>65</td>\n",
       "      <td>10993</td>\n",
       "    </tr>\n",
       "    <tr>\n",
       "      <th>67</th>\n",
       "      <td>67</td>\n",
       "      <td>11186</td>\n",
       "    </tr>\n",
       "    <tr>\n",
       "      <th>68</th>\n",
       "      <td>68</td>\n",
       "      <td>11483</td>\n",
       "    </tr>\n",
       "    <tr>\n",
       "      <th>69</th>\n",
       "      <td>69</td>\n",
       "      <td>11762</td>\n",
       "    </tr>\n",
       "    <tr>\n",
       "      <th>74</th>\n",
       "      <td>74</td>\n",
       "      <td>9671</td>\n",
       "    </tr>\n",
       "    <tr>\n",
       "      <th>75</th>\n",
       "      <td>75</td>\n",
       "      <td>11122</td>\n",
       "    </tr>\n",
       "    <tr>\n",
       "      <th>77</th>\n",
       "      <td>77</td>\n",
       "      <td>9404</td>\n",
       "    </tr>\n",
       "    <tr>\n",
       "      <th>80</th>\n",
       "      <td>80</td>\n",
       "      <td>11019</td>\n",
       "    </tr>\n",
       "    <tr>\n",
       "      <th>81</th>\n",
       "      <td>81</td>\n",
       "      <td>11679</td>\n",
       "    </tr>\n",
       "    <tr>\n",
       "      <th>83</th>\n",
       "      <td>83</td>\n",
       "      <td>10708</td>\n",
       "    </tr>\n",
       "    <tr>\n",
       "      <th>87</th>\n",
       "      <td>87</td>\n",
       "      <td>8999</td>\n",
       "    </tr>\n",
       "    <tr>\n",
       "      <th>88</th>\n",
       "      <td>88</td>\n",
       "      <td>11184</td>\n",
       "    </tr>\n",
       "    <tr>\n",
       "      <th>90</th>\n",
       "      <td>90</td>\n",
       "      <td>8944</td>\n",
       "    </tr>\n",
       "    <tr>\n",
       "      <th>94</th>\n",
       "      <td>94</td>\n",
       "      <td>11550</td>\n",
       "    </tr>\n",
       "    <tr>\n",
       "      <th>95</th>\n",
       "      <td>95</td>\n",
       "      <td>11483</td>\n",
       "    </tr>\n",
       "    <tr>\n",
       "      <th>97</th>\n",
       "      <td>97</td>\n",
       "      <td>9924</td>\n",
       "    </tr>\n",
       "    <tr>\n",
       "      <th>98</th>\n",
       "      <td>98</td>\n",
       "      <td>11512</td>\n",
       "    </tr>\n",
       "    <tr>\n",
       "      <th>100</th>\n",
       "      <td>100</td>\n",
       "      <td>10644</td>\n",
       "    </tr>\n",
       "    <tr>\n",
       "      <th>101</th>\n",
       "      <td>101</td>\n",
       "      <td>9913</td>\n",
       "    </tr>\n",
       "    <tr>\n",
       "      <th>103</th>\n",
       "      <td>103</td>\n",
       "      <td>10358</td>\n",
       "    </tr>\n",
       "    <tr>\n",
       "      <th>104</th>\n",
       "      <td>104</td>\n",
       "      <td>11398</td>\n",
       "    </tr>\n",
       "    <tr>\n",
       "      <th>105</th>\n",
       "      <td>105</td>\n",
       "      <td>10476</td>\n",
       "    </tr>\n",
       "    <tr>\n",
       "      <th>107</th>\n",
       "      <td>107</td>\n",
       "      <td>11549</td>\n",
       "    </tr>\n",
       "    <tr>\n",
       "      <th>110</th>\n",
       "      <td>110</td>\n",
       "      <td>11147</td>\n",
       "    </tr>\n",
       "    <tr>\n",
       "      <th>111</th>\n",
       "      <td>111</td>\n",
       "      <td>11168</td>\n",
       "    </tr>\n",
       "    <tr>\n",
       "      <th>115</th>\n",
       "      <td>115</td>\n",
       "      <td>10598</td>\n",
       "    </tr>\n",
       "    <tr>\n",
       "      <th>117</th>\n",
       "      <td>117</td>\n",
       "      <td>10294</td>\n",
       "    </tr>\n",
       "    <tr>\n",
       "      <th>...</th>\n",
       "      <td>...</td>\n",
       "      <td>...</td>\n",
       "    </tr>\n",
       "    <tr>\n",
       "      <th>124</th>\n",
       "      <td>124</td>\n",
       "      <td>9525</td>\n",
       "    </tr>\n",
       "    <tr>\n",
       "      <th>125</th>\n",
       "      <td>125</td>\n",
       "      <td>11461</td>\n",
       "    </tr>\n",
       "    <tr>\n",
       "      <th>126</th>\n",
       "      <td>126</td>\n",
       "      <td>11663</td>\n",
       "    </tr>\n",
       "    <tr>\n",
       "      <th>127</th>\n",
       "      <td>127</td>\n",
       "      <td>11513</td>\n",
       "    </tr>\n",
       "    <tr>\n",
       "      <th>129</th>\n",
       "      <td>129</td>\n",
       "      <td>11558</td>\n",
       "    </tr>\n",
       "    <tr>\n",
       "      <th>133</th>\n",
       "      <td>133</td>\n",
       "      <td>10510</td>\n",
       "    </tr>\n",
       "    <tr>\n",
       "      <th>134</th>\n",
       "      <td>134</td>\n",
       "      <td>10822</td>\n",
       "    </tr>\n",
       "    <tr>\n",
       "      <th>135</th>\n",
       "      <td>135</td>\n",
       "      <td>11595</td>\n",
       "    </tr>\n",
       "    <tr>\n",
       "      <th>136</th>\n",
       "      <td>136</td>\n",
       "      <td>11285</td>\n",
       "    </tr>\n",
       "    <tr>\n",
       "      <th>143</th>\n",
       "      <td>143</td>\n",
       "      <td>11289</td>\n",
       "    </tr>\n",
       "    <tr>\n",
       "      <th>146</th>\n",
       "      <td>146</td>\n",
       "      <td>11235</td>\n",
       "    </tr>\n",
       "    <tr>\n",
       "      <th>147</th>\n",
       "      <td>147</td>\n",
       "      <td>11684</td>\n",
       "    </tr>\n",
       "    <tr>\n",
       "      <th>149</th>\n",
       "      <td>149</td>\n",
       "      <td>11400</td>\n",
       "    </tr>\n",
       "    <tr>\n",
       "      <th>153</th>\n",
       "      <td>153</td>\n",
       "      <td>10809</td>\n",
       "    </tr>\n",
       "    <tr>\n",
       "      <th>157</th>\n",
       "      <td>157</td>\n",
       "      <td>10257</td>\n",
       "    </tr>\n",
       "    <tr>\n",
       "      <th>158</th>\n",
       "      <td>158</td>\n",
       "      <td>11727</td>\n",
       "    </tr>\n",
       "    <tr>\n",
       "      <th>159</th>\n",
       "      <td>159</td>\n",
       "      <td>11210</td>\n",
       "    </tr>\n",
       "    <tr>\n",
       "      <th>164</th>\n",
       "      <td>164</td>\n",
       "      <td>10779</td>\n",
       "    </tr>\n",
       "    <tr>\n",
       "      <th>165</th>\n",
       "      <td>165</td>\n",
       "      <td>10811</td>\n",
       "    </tr>\n",
       "    <tr>\n",
       "      <th>166</th>\n",
       "      <td>166</td>\n",
       "      <td>10387</td>\n",
       "    </tr>\n",
       "    <tr>\n",
       "      <th>167</th>\n",
       "      <td>167</td>\n",
       "      <td>10142</td>\n",
       "    </tr>\n",
       "    <tr>\n",
       "      <th>171</th>\n",
       "      <td>171</td>\n",
       "      <td>11771</td>\n",
       "    </tr>\n",
       "    <tr>\n",
       "      <th>174</th>\n",
       "      <td>174</td>\n",
       "      <td>11836</td>\n",
       "    </tr>\n",
       "    <tr>\n",
       "      <th>175</th>\n",
       "      <td>175</td>\n",
       "      <td>11573</td>\n",
       "    </tr>\n",
       "    <tr>\n",
       "      <th>177</th>\n",
       "      <td>177</td>\n",
       "      <td>11797</td>\n",
       "    </tr>\n",
       "    <tr>\n",
       "      <th>180</th>\n",
       "      <td>180</td>\n",
       "      <td>11937</td>\n",
       "    </tr>\n",
       "    <tr>\n",
       "      <th>181</th>\n",
       "      <td>181</td>\n",
       "      <td>11954</td>\n",
       "    </tr>\n",
       "    <tr>\n",
       "      <th>182</th>\n",
       "      <td>182</td>\n",
       "      <td>11129</td>\n",
       "    </tr>\n",
       "    <tr>\n",
       "      <th>186</th>\n",
       "      <td>186</td>\n",
       "      <td>11888</td>\n",
       "    </tr>\n",
       "    <tr>\n",
       "      <th>187</th>\n",
       "      <td>187</td>\n",
       "      <td>11603</td>\n",
       "    </tr>\n",
       "  </tbody>\n",
       "</table>\n",
       "<p>64 rows × 2 columns</p>\n",
       "</div>"
      ],
      "text/plain": [
       "     pixel_drk  count\n",
       "33          33  11018\n",
       "52          52  10245\n",
       "58          58  10089\n",
       "65          65  10993\n",
       "67          67  11186\n",
       "68          68  11483\n",
       "69          69  11762\n",
       "74          74   9671\n",
       "75          75  11122\n",
       "77          77   9404\n",
       "80          80  11019\n",
       "81          81  11679\n",
       "83          83  10708\n",
       "87          87   8999\n",
       "88          88  11184\n",
       "90          90   8944\n",
       "94          94  11550\n",
       "95          95  11483\n",
       "97          97   9924\n",
       "98          98  11512\n",
       "100        100  10644\n",
       "101        101   9913\n",
       "103        103  10358\n",
       "104        104  11398\n",
       "105        105  10476\n",
       "107        107  11549\n",
       "110        110  11147\n",
       "111        111  11168\n",
       "115        115  10598\n",
       "117        117  10294\n",
       "..         ...    ...\n",
       "124        124   9525\n",
       "125        125  11461\n",
       "126        126  11663\n",
       "127        127  11513\n",
       "129        129  11558\n",
       "133        133  10510\n",
       "134        134  10822\n",
       "135        135  11595\n",
       "136        136  11285\n",
       "143        143  11289\n",
       "146        146  11235\n",
       "147        147  11684\n",
       "149        149  11400\n",
       "153        153  10809\n",
       "157        157  10257\n",
       "158        158  11727\n",
       "159        159  11210\n",
       "164        164  10779\n",
       "165        165  10811\n",
       "166        166  10387\n",
       "167        167  10142\n",
       "171        171  11771\n",
       "174        174  11836\n",
       "175        175  11573\n",
       "177        177  11797\n",
       "180        180  11937\n",
       "181        181  11954\n",
       "182        182  11129\n",
       "186        186  11888\n",
       "187        187  11603\n",
       "\n",
       "[64 rows x 2 columns]"
      ]
     },
     "execution_count": 9,
     "metadata": {},
     "output_type": "execute_result"
    }
   ],
   "source": [
    "x_tr_dk_df.loc[x_tr_dk_df['count']<11962]"
   ]
  },
  {
   "cell_type": "markdown",
   "metadata": {},
   "source": [
    "From the above table we can see that that 25% count is at 11962. "
   ]
  },
  {
   "cell_type": "code",
   "execution_count": 35,
   "metadata": {
    "collapsed": false,
    "scrolled": false
   },
   "outputs": [],
   "source": [
    "x_tr_dk_adj={}\n",
    "# make new dataframe for adjusted values\n",
    "raw_train_adj=pd.DataFrame()\n",
    "# create a list of all the pixel darkness values that should be turned into 0\n",
    "pxdk_to_zero=[i for i in x_tr_dk if x_tr_dk[i]<11962]\n",
    "\n",
    "# replace pixel darkness values under 25% to zero\n",
    "for i in raw_train:\n",
    "    raw_train_adj[i]=raw_train[i].replace(pxdk_to_zero,0, regex=True)\n",
    "\n"
   ]
  },
  {
   "cell_type": "code",
   "execution_count": 36,
   "metadata": {
    "collapsed": false
   },
   "outputs": [
    {
     "name": "stdout",
     "output_type": "stream",
     "text": [
      "0      41957\n",
      "71         3\n",
      "254        3\n",
      "218        2\n",
      "114        2\n",
      "24         2\n",
      "255        2\n",
      "253        2\n",
      "27         1\n",
      "234        1\n",
      "64         1\n",
      "160        1\n",
      "130        1\n",
      "132        1\n",
      "228        1\n",
      "69         1\n",
      "230        1\n",
      "94         1\n",
      "231        1\n",
      "74         1\n",
      "202        1\n",
      "12         1\n",
      "186        1\n",
      "44         1\n",
      "142        1\n",
      "174        1\n",
      "62         1\n",
      "180        1\n",
      "117        1\n",
      "22         1\n",
      "246        1\n",
      "221        1\n",
      "217        1\n",
      "26         1\n",
      "145        1\n",
      "Name: pixel45, dtype: int64\n",
      "0      41964\n",
      "71         3\n",
      "254        3\n",
      "218        2\n",
      "114        2\n",
      "24         2\n",
      "255        2\n",
      "253        2\n",
      "26         1\n",
      "202        1\n",
      "64         1\n",
      "160        1\n",
      "130        1\n",
      "132        1\n",
      "228        1\n",
      "230        1\n",
      "62         1\n",
      "231        1\n",
      "234        1\n",
      "217        1\n",
      "12         1\n",
      "44         1\n",
      "145        1\n",
      "221        1\n",
      "22         1\n",
      "246        1\n",
      "27         1\n",
      "142        1\n",
      "Name: pixel45, dtype: int64\n"
     ]
    }
   ],
   "source": [
    "# find rows with the pixel darkness values to be replaced\n",
    "pixel_check=list(set([sublist for sublist in raw_train.columns[50:150] for i in raw_train[sublist] if i in pxdk_to_zero]))\n",
    "    \n",
    "# Check to make sure that values below 25%of max counts are converted to zero \n",
    "print raw_train['pixel45'].value_counts()\n",
    "print raw_train_adj['pixel45'].value_counts()\n"
   ]
  },
  {
   "cell_type": "code",
   "execution_count": 41,
   "metadata": {
    "collapsed": false
   },
   "outputs": [],
   "source": [
    "x_tr_adj=raw_train_adj.values[:,1:]"
   ]
  },
  {
   "cell_type": "code",
   "execution_count": 42,
   "metadata": {
    "collapsed": false
   },
   "outputs": [
    {
     "data": {
      "text/plain": [
       "RandomForestClassifier(bootstrap=True, class_weight=None, criterion='gini',\n",
       "            max_depth=None, max_features='auto', max_leaf_nodes=None,\n",
       "            min_samples_leaf=1, min_samples_split=2,\n",
       "            min_weight_fraction_leaf=0.0, n_estimators=10, n_jobs=1,\n",
       "            oob_score=False, random_state=None, verbose=0,\n",
       "            warm_start=False)"
      ]
     },
     "execution_count": 42,
     "metadata": {},
     "output_type": "execute_result"
    }
   ],
   "source": [
    "# Lets try random Forests now on this\n",
    "from sklearn.ensemble import RandomForestClassifier as RF\n",
    "clf4=RF()\n",
    "clf4.fit(x_tr_adj, y_tr)"
   ]
  },
  {
   "cell_type": "code",
   "execution_count": 43,
   "metadata": {
    "collapsed": true
   },
   "outputs": [],
   "source": [
    "pred4=clf4.predict(y_test)"
   ]
  },
  {
   "cell_type": "code",
   "execution_count": 49,
   "metadata": {
    "collapsed": false
   },
   "outputs": [],
   "source": [
    "import csv\n",
    "with open(loc+\"submission4.csv\", 'wb') as f:\n",
    "    w=csv.writer(f)\n",
    "    w.writerow([\"imageid\",'label'])\n",
    "    for i,v in enumerate(pred4, start=1):\n",
    "        w.writerow([i,v])"
   ]
  },
  {
   "cell_type": "markdown",
   "metadata": {},
   "source": [
    "Unfortunately the score was less 0.93229."
   ]
  },
  {
   "cell_type": "code",
   "execution_count": 17,
   "metadata": {
    "collapsed": false
   },
   "outputs": [
    {
     "data": {
      "image/png": "[encoded data removed]",
      "text/plain": [
       "<matplotlib.figure.Figure at 0x209eaf28>"
      ]
     },
     "metadata": {},
     "output_type": "display_data"
    }
   ],
   "source": [
    "# create a table of the different ranges of pixel darkness values for each pixel [values 0:255]\n",
    "\n",
    "x_tr_dk_plt=dict((x,x_tr_dk[x]/20000) for x in x_tr_dk if x_tr_dk[x]>20000)\n",
    "\n",
    "# plot the counter\n",
    "plt.bar(range(len(x_tr_dk_plt)), x_tr_dk_plt.values())\n",
    "plt.xticks(range(len(x_tr_dk_plt)), x_tr_dk_plt.keys(), rotation=\"vertical\")\n",
    "plt.show()\n"
   ]
  },
  {
   "cell_type": "code",
   "execution_count": null,
   "metadata": {
    "collapsed": false
   },
   "outputs": [],
   "source": [
    "# find simple bounds for pixel darkness data used for above chart.\n",
    "x_tr_dk=pd.DataFrame(x_tr_dk.items(), columns=['pixelvalue', 'count'])\n",
    "x_tr_dk.describe()"
   ]
  },
  {
   "cell_type": "code",
   "execution_count": 14,
   "metadata": {
    "collapsed": false
   },
   "outputs": [],
   "source": [
    "# create a histogram of pixel location \n",
    "\n",
    "x_tr_col=list(raw_train.columns.values[1:])\n",
    "\n",
    "# create a new dictionary for all values that are higher than 0\n",
    "x_tr_df={}\n",
    "\n",
    "for x in raw_train[x_tr_col]:\n",
    "    sublist=[]\n",
    "    for xx in raw_train[x]:\n",
    "        if xx>0:\n",
    "            sublist.append(xx)        \n",
    "    x_tr_df[x]=sublist"
   ]
  },
  {
   "cell_type": "code",
   "execution_count": 7,
   "metadata": {
    "collapsed": false
   },
   "outputs": [
    {
     "data": {
      "text/plain": [
       "66"
      ]
     },
     "execution_count": 7,
     "metadata": {},
     "output_type": "execute_result"
    }
   ],
   "source": [
    "x_tr_df1=dict((i, len(x_tr_df[i])) for i in x_tr_df if len(x_tr_df[i])>25000)\n",
    "# number of values that fit condition above\n",
    "len(x_tr_df1)"
   ]
  },
  {
   "cell_type": "code",
   "execution_count": 8,
   "metadata": {
    "collapsed": false,
    "scrolled": true
   },
   "outputs": [
    {
     "data": {
      "image/png": "[encoded data removed]",
      "text/plain": [
       "<matplotlib.figure.Figure at 0x124b82b0>"
      ]
     },
     "metadata": {},
     "output_type": "display_data"
    }
   ],
   "source": [
    "# create a dataframe that contains only values above 25000\n",
    "# x_tr_df1=pd.DataFrame.from_dict(x_tr_df)\n",
    "\n",
    "plt.bar(range(len(x_tr_df1)), x_tr_df1.values())\n",
    "plt.xticks(range(len(x_tr_df1)), x_tr_df1.keys(), rotation=\"vertical\")\n",
    "plt.show()"
   ]
  }
 ],
 "metadata": {
  "kernelspec": {
   "display_name": "Python 2",
   "language": "python",
   "name": "python2"
  },
  "language_info": {
   "codemirror_mode": {
    "name": "ipython",
    "version": 2
   },
   "file_extension": ".py",
   "mimetype": "text/x-python",
   "name": "python",
   "nbconvert_exporter": "python",
   "pygments_lexer": "ipython2",
   "version": "2.7.10"
  }
 },
 "nbformat": 4,
 "nbformat_minor": 0
}
